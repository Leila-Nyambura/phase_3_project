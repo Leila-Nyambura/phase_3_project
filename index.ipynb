{
 "cells": [
  {
   "cell_type": "markdown",
   "metadata": {},
   "source": [
    "## SyriaTel Customer Churn Prediction"
   ]
  },
  {
   "cell_type": "markdown",
   "metadata": {},
   "source": [
    "## 1. Introduction and Overview"
   ]
  },
  {
   "cell_type": "markdown",
   "metadata": {},
   "source": [
    "### 1.1 Overview"
   ]
  },
  {
   "cell_type": "markdown",
   "metadata": {},
   "source": [
    "SyriaTel is one of the major telecommunications company in Syria, known for providing mobile and internet services across the country. It was founded in 2000 and is one of the two main mobile network operators in Syria, the other being MTN Syria. SyriaTel provides voice, data, and messaging services, including prepaid and postpaid mobile plans. It also offers mobile broadband services and various value-added services like ring-back tones, mobile TV, and mobile payment solutions. The company has faced numerous challenges due to the Syrian civil war, including infrastructure damage, economic sanctions, and political instability. These factors have impacted its operations and financial performance over the years.\n",
    "\n",
    "Customer churn is where customers stop using a company's product or service over a given period of time. It is a critical metric for businesses as it directly impacts profitability and growth. The project's goal is to build a machine learning model to predict whether a customer will (\"soon\") stop doing business with SyriaTel. By analyzing customer data, the model will enable SyriaTel to pinpoint customers most likely to discontinue their service, enabling targeted retention strategies."
   ]
  },
  {
   "cell_type": "markdown",
   "metadata": {},
   "source": [
    "### 1.2 CRISP-DM Methodology"
   ]
  },
  {
   "cell_type": "markdown",
   "metadata": {},
   "source": [
    "This project will follow the ***CRoss-Industry Standard Process for Data Mining (CRISP-DM)*** methodology to organize and structure the data science process. The process is iterative and consists of six main phases:\n",
    "\n",
    " 1. **Business Understanding**\n",
    " 2. **Data Understanding**\n",
    " 3. **Data Preparation**\n",
    " 4. **Modeling**\n",
    " 5. **Evaluation**\n",
    " 6. **Deployment** *(the model will not be deployed in this project)*\n",
    "\n",
    "The methodology's iterative approach enables a return to previous steps as needed, based on the discovery of new information or the encounter of challenges. This flexibility contributes to the creation of a robust solution that aligns with the needs of the business."
   ]
  },
  {
   "cell_type": "markdown",
   "metadata": {},
   "source": [
    "## 2. Business Understanding"
   ]
  },
  {
   "cell_type": "markdown",
   "metadata": {},
   "source": [
    "### 2.1 Business Problem\n",
    "\n",
    "SyriaTel has been experiencing customer chun and to get ahead of the situation the company seeks to predict whether their customers will soon leave the company and factors leading to it.\n",
    "\n",
    "Key stakeholders in this project will be:\n",
    " - **Customer Relationship Management (CRM) Team:** to use the churn prediction insights to design retention strategies.\n",
    " - **Marketing Team:** to design and execute personalized campaigns based on the predicted churn risk and identified churn factors.\n",
    " - **Customer Service/Support Team** to proactively reach out to at-risk customers, improving service quality and addressing issues that may lead to churn."
   ]
  },
  {
   "cell_type": "markdown",
   "metadata": {},
   "source": [
    "### 2.2 Objectives\n",
    "\n",
    " - Develop a Churn Prediction Model: Build a Logistic Regression model to predict the likelihood of customers leaving SyriaTel, enabling the company to identify at-risk customers before they churn.\n",
    "\n",
    " - Identify Key Churn Drivers: Analyze the model's outputs to determine the most significant factors contributing to customer churn.\n",
    "\n",
    " - Enable Proactive Retention Strategies:Use the insights from the model to design targeted interventions aimed at retaining at-risk customers."
   ]
  },
  {
   "cell_type": "code",
   "execution_count": null,
   "metadata": {},
   "outputs": [],
   "source": []
  }
 ],
 "metadata": {
  "kernelspec": {
   "display_name": "Python (learn-env)",
   "language": "python",
   "name": "learn-env"
  },
  "language_info": {
   "codemirror_mode": {
    "name": "ipython",
    "version": 3
   },
   "file_extension": ".py",
   "mimetype": "text/x-python",
   "name": "python",
   "nbconvert_exporter": "python",
   "pygments_lexer": "ipython3",
   "version": "3.8.5"
  }
 },
 "nbformat": 4,
 "nbformat_minor": 4
}
